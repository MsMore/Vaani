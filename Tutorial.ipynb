{
 "cells": [
  {
   "cell_type": "markdown",
   "metadata": {},
   "source": [
    "Resources Used\n",
    "- wget.download('https://tensorflow-object-detection-api-tutorial.readthedocs.io/en/latest/_downloads/da4babe668a8afb093cc7776d7e630f3/generate_tfrecord.py')\n",
    "- Setup https://tensorflow-object-detection-api-tutorial.readthedocs.io/en/latest/install.html"
   ]
  },
  {
   "cell_type": "markdown",
   "metadata": {},
   "source": [
    "# 0. Setup Paths"
   ]
  },
  {
   "cell_type": "code",
   "execution_count": 1,
   "metadata": {},
   "outputs": [],
   "source": [
    "WORKSPACE_PATH = 'Tensorflow/workspace'\n",
    "SCRIPTS_PATH = 'Tensorflow/scripts'\n",
    "APIMODEL_PATH = 'Tensorflow/models'\n",
    "ANNOTATION_PATH = WORKSPACE_PATH+'/annotations'\n",
    "IMAGE_PATH = WORKSPACE_PATH+'/images'\n",
    "MODEL_PATH = WORKSPACE_PATH+'/models'\n",
    "PRETRAINED_MODEL_PATH = WORKSPACE_PATH+'/pre-trained-models'\n",
    "CONFIG_PATH = MODEL_PATH+'/my_ssd_mobnet/pipeline.config'\n",
    "CHECKPOINT_PATH = MODEL_PATH+'/my_ssd_mobnet/'"
   ]
  },
  {
   "cell_type": "markdown",
   "metadata": {},
   "source": [
    "# 1. Create Label Map"
   ]
  },
  {
   "cell_type": "code",
   "execution_count": 2,
   "metadata": {},
   "outputs": [],
   "source": [
    "labels = [{'name':'A', 'id':1},{'name':'B', 'id':2},{'name':'C', 'id':3},\n",
    "{'name':'D', 'id':4},{'name':'E', 'id':5},{'name':'F', 'id':6},{'name':'G', 'id':7},{'name':'H', 'id':8},\n",
    "{'name':'I', 'id':9},{'name':'J', 'id':10},{'name':'K', 'id':11},{'name':'L', 'id':12},{'name':'M', 'id':13},\n",
    "{'name':'N', 'id':14},{'name':'O', 'id':15},{'name':'P', 'id':16},{'name':'Q', 'id':17},{'name':'R', 'id':18},\n",
    "{'name':'S', 'id':19},{'name':'T', 'id':20},{'name':'U', 'id':21},{'name':'V', 'id':22},{'name':'W', 'id':23},\n",
    "{'name':'X', 'id':24},{'name':'Y', 'id':25},{'name':'Z', 'id':26}]\n",
    "\n",
    "with open(ANNOTATION_PATH + '\\label_map.pbtxt', 'w') as f:\n",
    "    for label in labels:\n",
    "        f.write('item { \\n')\n",
    "        f.write('\\tname:\\'{}\\'\\n'.format(label['name']))\n",
    "        f.write('\\tid:{}\\n'.format(label['id']))\n",
    "        f.write('}\\n')"
   ]
  },
  {
   "cell_type": "markdown",
   "metadata": {},
   "source": [
    "# 2. Create TF records"
   ]
  },
  {
   "cell_type": "code",
   "execution_count": 3,
   "metadata": {},
   "outputs": [
    {
     "name": "stdout",
     "output_type": "stream",
     "text": [
      "Successfully created the TFRecord file: Tensorflow/workspace/annotations/train.record\n",
      "Successfully created the TFRecord file: Tensorflow/workspace/annotations/test.record\n"
     ]
    }
   ],
   "source": [
    "!python {SCRIPTS_PATH + '/generate_tfrecord.py'} -x {IMAGE_PATH + '/train'} -l {ANNOTATION_PATH + '/label_map.pbtxt'} -o {ANNOTATION_PATH + '/train.record'}\n",
    "!python {SCRIPTS_PATH + '/generate_tfrecord.py'} -x{IMAGE_PATH + '/test'} -l {ANNOTATION_PATH + '/label_map.pbtxt'} -o {ANNOTATION_PATH + '/test.record'}"
   ]
  },
  {
   "cell_type": "markdown",
   "metadata": {},
   "source": [
    "# 3. Download TF Models Pretrained Models from Tensorflow Model Zoo"
   ]
  },
  {
   "cell_type": "code",
   "execution_count": 3,
   "metadata": {},
   "outputs": [
    {
     "name": "stderr",
     "output_type": "stream",
     "text": [
      "Cloning into 'models'...\n",
      "Updating files:  61% (1388/2251)\n",
      "Updating files:  62% (1396/2251)\n",
      "Updating files:  63% (1419/2251)\n",
      "Updating files:  64% (1441/2251)\n",
      "Updating files:  65% (1464/2251)\n",
      "Updating files:  66% (1486/2251)\n",
      "Updating files:  67% (1509/2251)\n",
      "Updating files:  68% (1531/2251)\n",
      "Updating files:  69% (1554/2251)\n",
      "Updating files:  70% (1576/2251)\n",
      "Updating files:  71% (1599/2251)\n",
      "Updating files:  72% (1621/2251)\n",
      "Updating files:  73% (1644/2251)\n",
      "Updating files:  74% (1666/2251)\n",
      "Updating files:  75% (1689/2251)\n",
      "Updating files:  76% (1711/2251)\n",
      "Updating files:  77% (1734/2251)\n",
      "Updating files:  78% (1756/2251)\n",
      "Updating files:  79% (1779/2251)\n",
      "Updating files:  80% (1801/2251)\n",
      "Updating files:  81% (1824/2251)\n",
      "Updating files:  82% (1846/2251)\n",
      "Updating files:  83% (1869/2251)\n",
      "Updating files:  84% (1891/2251)\n",
      "Updating files:  85% (1914/2251)\n",
      "Updating files:  86% (1936/2251)\n",
      "Updating files:  87% (1959/2251)\n",
      "Updating files:  88% (1981/2251)\n",
      "Updating files:  89% (2004/2251)\n",
      "Updating files:  90% (2026/2251)\n",
      "Updating files:  91% (2049/2251)\n",
      "Updating files:  92% (2071/2251)\n",
      "Updating files:  93% (2094/2251)\n",
      "Updating files:  94% (2116/2251)\n",
      "Updating files:  95% (2139/2251)\n",
      "Updating files:  96% (2161/2251)\n",
      "Updating files:  97% (2184/2251)\n",
      "Updating files:  98% (2206/2251)\n",
      "Updating files:  99% (2229/2251)\n",
      "Updating files: 100% (2251/2251)\n",
      "Updating files: 100% (2251/2251), done.\n"
     ]
    }
   ],
   "source": [
    "!cd Tensorflow && git clone https://github.com/tensorflow/models"
   ]
  },
  {
   "cell_type": "code",
   "execution_count": 6,
   "metadata": {},
   "outputs": [],
   "source": [
    "#wget.download('http://download.tensorflow.org/models/object_detection/tf2/20200711/ssd_mobilenet_v2_fpnlite_320x320_coco17_tpu-8.tar.gz')\n",
    "#!mv ssd_mobilenet_v2_fpnlite_320x320_coco17_tpu-8.tar.gz {PRETRAINED_MODEL_PATH}\n",
    "#!cd {PRETRAINED_MODEL_PATH} && tar -zxvf ssd_mobilenet_v2_fpnlite_320x320_coco17_tpu-8.tar.gz"
   ]
  },
  {
   "cell_type": "markdown",
   "metadata": {},
   "source": [
    "# 4. Copy Model Config to Training Folder"
   ]
  },
  {
   "cell_type": "code",
   "execution_count": 3,
   "metadata": {},
   "outputs": [],
   "source": [
    "CUSTOM_MODEL_NAME = 'my_ssd_mobnet' "
   ]
  },
  {
   "cell_type": "code",
   "execution_count": 4,
   "metadata": {},
   "outputs": [
    {
     "name": "stderr",
     "output_type": "stream",
     "text": [
      "A subdirectory or file Tensorflow\\workspace\\models\\my_ssd_mobnet already exists.\n"
     ]
    }
   ],
   "source": [
    "!mkdir {'Tensorflow\\workspace\\models\\\\'+CUSTOM_MODEL_NAME}\n",
    "!cp {PRETRAINED_MODEL_PATH+'/ssd_mobilenet_v2_fpnlite_320x320_coco17_tpu-8/pipeline.config'} {MODEL_PATH+'/'+CUSTOM_MODEL_NAME}"
   ]
  },
  {
   "cell_type": "markdown",
   "metadata": {},
   "source": [
    "# 5. Update Config For Transfer Learning"
   ]
  },
  {
   "cell_type": "code",
   "execution_count": 5,
   "metadata": {},
   "outputs": [],
   "source": [
    "import tensorflow as tf\n",
    "from object_detection.utils import config_util\n",
    "from object_detection.protos import pipeline_pb2\n",
    "from google.protobuf import text_format"
   ]
  },
  {
   "cell_type": "code",
   "execution_count": 6,
   "metadata": {},
   "outputs": [],
   "source": [
    "CONFIG_PATH = MODEL_PATH+'/'+CUSTOM_MODEL_NAME+'/pipeline.config'"
   ]
  },
  {
   "cell_type": "code",
   "execution_count": 7,
   "metadata": {},
   "outputs": [],
   "source": [
    "config = config_util.get_configs_from_pipeline_file(CONFIG_PATH)"
   ]
  },
  {
   "cell_type": "code",
   "execution_count": 10,
   "metadata": {},
   "outputs": [
    {
     "data": {
      "text/plain": [
       "{'model': ssd {\n",
       "   num_classes: 90\n",
       "   image_resizer {\n",
       "     fixed_shape_resizer {\n",
       "       height: 320\n",
       "       width: 320\n",
       "     }\n",
       "   }\n",
       "   feature_extractor {\n",
       "     type: \"ssd_mobilenet_v2_fpn_keras\"\n",
       "     depth_multiplier: 1.0\n",
       "     min_depth: 16\n",
       "     conv_hyperparams {\n",
       "       regularizer {\n",
       "         l2_regularizer {\n",
       "           weight: 3.9999998989515007e-05\n",
       "         }\n",
       "       }\n",
       "       initializer {\n",
       "         random_normal_initializer {\n",
       "           mean: 0.0\n",
       "           stddev: 0.009999999776482582\n",
       "         }\n",
       "       }\n",
       "       activation: RELU_6\n",
       "       batch_norm {\n",
       "         decay: 0.996999979019165\n",
       "         scale: true\n",
       "         epsilon: 0.0010000000474974513\n",
       "       }\n",
       "     }\n",
       "     use_depthwise: true\n",
       "     override_base_feature_extractor_hyperparams: true\n",
       "     fpn {\n",
       "       min_level: 3\n",
       "       max_level: 7\n",
       "       additional_layer_depth: 128\n",
       "     }\n",
       "   }\n",
       "   box_coder {\n",
       "     faster_rcnn_box_coder {\n",
       "       y_scale: 10.0\n",
       "       x_scale: 10.0\n",
       "       height_scale: 5.0\n",
       "       width_scale: 5.0\n",
       "     }\n",
       "   }\n",
       "   matcher {\n",
       "     argmax_matcher {\n",
       "       matched_threshold: 0.5\n",
       "       unmatched_threshold: 0.5\n",
       "       ignore_thresholds: false\n",
       "       negatives_lower_than_unmatched: true\n",
       "       force_match_for_each_row: true\n",
       "       use_matmul_gather: true\n",
       "     }\n",
       "   }\n",
       "   similarity_calculator {\n",
       "     iou_similarity {\n",
       "     }\n",
       "   }\n",
       "   box_predictor {\n",
       "     weight_shared_convolutional_box_predictor {\n",
       "       conv_hyperparams {\n",
       "         regularizer {\n",
       "           l2_regularizer {\n",
       "             weight: 3.9999998989515007e-05\n",
       "           }\n",
       "         }\n",
       "         initializer {\n",
       "           random_normal_initializer {\n",
       "             mean: 0.0\n",
       "             stddev: 0.009999999776482582\n",
       "           }\n",
       "         }\n",
       "         activation: RELU_6\n",
       "         batch_norm {\n",
       "           decay: 0.996999979019165\n",
       "           scale: true\n",
       "           epsilon: 0.0010000000474974513\n",
       "         }\n",
       "       }\n",
       "       depth: 128\n",
       "       num_layers_before_predictor: 4\n",
       "       kernel_size: 3\n",
       "       class_prediction_bias_init: -4.599999904632568\n",
       "       share_prediction_tower: true\n",
       "       use_depthwise: true\n",
       "     }\n",
       "   }\n",
       "   anchor_generator {\n",
       "     multiscale_anchor_generator {\n",
       "       min_level: 3\n",
       "       max_level: 7\n",
       "       anchor_scale: 4.0\n",
       "       aspect_ratios: 1.0\n",
       "       aspect_ratios: 2.0\n",
       "       aspect_ratios: 0.5\n",
       "       scales_per_octave: 2\n",
       "     }\n",
       "   }\n",
       "   post_processing {\n",
       "     batch_non_max_suppression {\n",
       "       score_threshold: 9.99999993922529e-09\n",
       "       iou_threshold: 0.6000000238418579\n",
       "       max_detections_per_class: 100\n",
       "       max_total_detections: 100\n",
       "       use_static_shapes: false\n",
       "     }\n",
       "     score_converter: SIGMOID\n",
       "   }\n",
       "   normalize_loss_by_num_matches: true\n",
       "   loss {\n",
       "     localization_loss {\n",
       "       weighted_smooth_l1 {\n",
       "       }\n",
       "     }\n",
       "     classification_loss {\n",
       "       weighted_sigmoid_focal {\n",
       "         gamma: 2.0\n",
       "         alpha: 0.25\n",
       "       }\n",
       "     }\n",
       "     classification_weight: 1.0\n",
       "     localization_weight: 1.0\n",
       "   }\n",
       "   encode_background_as_zeros: true\n",
       "   normalize_loc_loss_by_codesize: true\n",
       "   inplace_batchnorm_update: true\n",
       "   freeze_batchnorm: false\n",
       " }, 'train_config': batch_size: 128\n",
       " data_augmentation_options {\n",
       "   random_horizontal_flip {\n",
       "   }\n",
       " }\n",
       " data_augmentation_options {\n",
       "   random_crop_image {\n",
       "     min_object_covered: 0.0\n",
       "     min_aspect_ratio: 0.75\n",
       "     max_aspect_ratio: 3.0\n",
       "     min_area: 0.75\n",
       "     max_area: 1.0\n",
       "     overlap_thresh: 0.0\n",
       "   }\n",
       " }\n",
       " sync_replicas: true\n",
       " optimizer {\n",
       "   momentum_optimizer {\n",
       "     learning_rate {\n",
       "       cosine_decay_learning_rate {\n",
       "         learning_rate_base: 0.07999999821186066\n",
       "         total_steps: 50000\n",
       "         warmup_learning_rate: 0.026666000485420227\n",
       "         warmup_steps: 1000\n",
       "       }\n",
       "     }\n",
       "     momentum_optimizer_value: 0.8999999761581421\n",
       "   }\n",
       "   use_moving_average: false\n",
       " }\n",
       " fine_tune_checkpoint: \"PATH_TO_BE_CONFIGURED\"\n",
       " num_steps: 50000\n",
       " startup_delay_steps: 0.0\n",
       " replicas_to_aggregate: 8\n",
       " max_number_of_boxes: 100\n",
       " unpad_groundtruth_tensors: false\n",
       " fine_tune_checkpoint_type: \"classification\"\n",
       " fine_tune_checkpoint_version: V2, 'train_input_config': label_map_path: \"PATH_TO_BE_CONFIGURED\"\n",
       " tf_record_input_reader {\n",
       "   input_path: \"PATH_TO_BE_CONFIGURED\"\n",
       " }, 'eval_config': metrics_set: \"coco_detection_metrics\"\n",
       " use_moving_averages: false, 'eval_input_configs': [label_map_path: \"PATH_TO_BE_CONFIGURED\"\n",
       " shuffle: false\n",
       " num_epochs: 1\n",
       " tf_record_input_reader {\n",
       "   input_path: \"PATH_TO_BE_CONFIGURED\"\n",
       " }\n",
       " ], 'eval_input_config': label_map_path: \"PATH_TO_BE_CONFIGURED\"\n",
       " shuffle: false\n",
       " num_epochs: 1\n",
       " tf_record_input_reader {\n",
       "   input_path: \"PATH_TO_BE_CONFIGURED\"\n",
       " }}"
      ]
     },
     "execution_count": 10,
     "metadata": {},
     "output_type": "execute_result"
    }
   ],
   "source": [
    "config"
   ]
  },
  {
   "cell_type": "code",
   "execution_count": 8,
   "metadata": {},
   "outputs": [],
   "source": [
    "pipeline_config = pipeline_pb2.TrainEvalPipelineConfig()\n",
    "with tf.io.gfile.GFile(CONFIG_PATH, \"r\") as f:                                                                                                                                                                                                                     \n",
    "    proto_str = f.read()                                                                                                                                                                                                                                          \n",
    "    text_format.Merge(proto_str, pipeline_config)  "
   ]
  },
  {
   "cell_type": "code",
   "execution_count": 9,
   "metadata": {},
   "outputs": [],
   "source": [
    "pipeline_config.model.ssd.num_classes = 26\n",
    "pipeline_config.train_config.batch_size = 4\n",
    "pipeline_config.train_config.fine_tune_checkpoint = PRETRAINED_MODEL_PATH+'/ssd_mobilenet_v2_fpnlite_320x320_coco17_tpu-8/checkpoint/ckpt-0'\n",
    "pipeline_config.train_config.fine_tune_checkpoint_type = \"detection\"\n",
    "pipeline_config.train_input_reader.label_map_path= ANNOTATION_PATH + '/label_map.pbtxt'\n",
    "pipeline_config.train_input_reader.tf_record_input_reader.input_path[:] = [ANNOTATION_PATH + '/train.record']\n",
    "pipeline_config.eval_input_reader[0].label_map_path = ANNOTATION_PATH + '/label_map.pbtxt'\n",
    "pipeline_config.eval_input_reader[0].tf_record_input_reader.input_path[:] = [ANNOTATION_PATH + '/test.record']"
   ]
  },
  {
   "cell_type": "code",
   "execution_count": 10,
   "metadata": {},
   "outputs": [],
   "source": [
    "config_text = text_format.MessageToString(pipeline_config)                                                                                                                                                                                                        \n",
    "with tf.io.gfile.GFile(CONFIG_PATH, \"wb\") as f:                                                                                                                                                                                                                     \n",
    "    f.write(config_text)   "
   ]
  },
  {
   "cell_type": "code",
   "execution_count": 16,
   "metadata": {},
   "outputs": [
    {
     "ename": "ImportError",
     "evalue": "cannot import name 'EventAccumulator' from 'tensorflow' (C:\\ProgramData\\Anaconda3\\lib\\site-packages\\tensorflow\\__init__.py)",
     "output_type": "error",
     "traceback": [
      "\u001b[1;31m---------------------------------------------------------------------------\u001b[0m",
      "\u001b[1;31mImportError\u001b[0m                               Traceback (most recent call last)",
      "\u001b[1;32m<ipython-input-16-8a625d297fcf>\u001b[0m in \u001b[0;36m<module>\u001b[1;34m\u001b[0m\n\u001b[0;32m      1\u001b[0m \u001b[1;32mimport\u001b[0m \u001b[0mnumpy\u001b[0m \u001b[1;32mas\u001b[0m \u001b[0mnp\u001b[0m\u001b[1;33m\u001b[0m\u001b[1;33m\u001b[0m\u001b[0m\n\u001b[1;32m----> 2\u001b[1;33m \u001b[1;32mfrom\u001b[0m \u001b[0mtensorflow\u001b[0m \u001b[1;32mimport\u001b[0m \u001b[0mEventAccumulator\u001b[0m\u001b[1;33m\u001b[0m\u001b[1;33m\u001b[0m\u001b[0m\n\u001b[0m\u001b[0;32m      3\u001b[0m \u001b[1;33m\u001b[0m\u001b[0m\n\u001b[0;32m      4\u001b[0m \u001b[1;32mimport\u001b[0m \u001b[0mmatplotlib\u001b[0m \u001b[1;32mas\u001b[0m \u001b[0mmpl\u001b[0m\u001b[1;33m\u001b[0m\u001b[1;33m\u001b[0m\u001b[0m\n\u001b[0;32m      5\u001b[0m \u001b[1;32mimport\u001b[0m \u001b[0mmatplotlib\u001b[0m\u001b[1;33m.\u001b[0m\u001b[0mpyplot\u001b[0m \u001b[1;32mas\u001b[0m \u001b[0mplt\u001b[0m\u001b[1;33m\u001b[0m\u001b[1;33m\u001b[0m\u001b[0m\n",
      "\u001b[1;31mImportError\u001b[0m: cannot import name 'EventAccumulator' from 'tensorflow' (C:\\ProgramData\\Anaconda3\\lib\\site-packages\\tensorflow\\__init__.py)"
     ]
    }
   ],
   "source": [
    "''''import numpy as np\n",
    "from tensorflow import EventAccumulator\n",
    "\n",
    "import matplotlib as mpl\n",
    "import matplotlib.pyplot as plt\n",
    "\n",
    "def plot_tensorflow_log(path):\n",
    "\n",
    "    # Loading too much data is slow...\n",
    "    tf_size_guidance = {\n",
    "        'compressedHistograms': 10,\n",
    "        'images': 0,\n",
    "        'scalars': 100,\n",
    "        'histograms': 1\n",
    "    }\n",
    "\n",
    "    event_acc = EventAccumulator(path, tf_size_guidance)\n",
    "    event_acc.Reload()\n",
    "\n",
    "    # Show all tags in the log file\n",
    "    #print(event_acc.Tags())\n",
    "\n",
    "    training_accuracies =   event_acc.Scalars('training-accuracy')\n",
    "    validation_accuracies = event_acc.Scalars('validation_accuracy')\n",
    "\n",
    "    steps = 10\n",
    "    x = np.arange(steps)\n",
    "    y = np.zeros([steps, 2])\n",
    "\n",
    "    for i in xrange(steps):\n",
    "        y[i, 0] = training_accuracies[i][2] # value\n",
    "        y[i, 1] = validation_accuracies[i][2]\n",
    "\n",
    "    plt.plot(x, y[:,0], label='training accuracy')\n",
    "    plt.plot(x, y[:,1], label='validation accuracy')\n",
    "\n",
    "    plt.xlabel(\"Steps\")\n",
    "    plt.ylabel(\"Accuracy\")\n",
    "    plt.title(\"Training Progress\")\n",
    "    plt.legend(loc='upper right', frameon=True)\n",
    "    plt.show()\n",
    "\n",
    "\n",
    "if __name__ == '__main__':\n",
    "    log_file = \"./logs/events.out.tfevents.1456909092.DTA16004\"\n",
    "    plot_tensorflow_log(log_file)''''"
   ]
  },
  {
   "cell_type": "markdown",
   "metadata": {},
   "source": [
    "# 6. Train the model"
   ]
  },
  {
   "cell_type": "code",
   "execution_count": 24,
   "metadata": {},
   "outputs": [
    {
     "name": "stdout",
     "output_type": "stream",
     "text": [
      "python Tensorflow/models/research/object_detection/model_main_tf2.py --model_dir=Tensorflow/workspace/models/my_ssd_mobnet --pipeline_config_path=Tensorflow/workspace/models/my_ssd_mobnet/pipeline.config --num_train_steps=32000\n"
     ]
    }
   ],
   "source": [
    "print(\"\"\"python {}/research/object_detection/model_main_tf2.py --model_dir={}/{} --pipeline_config_path={}/{}/pipeline.config --num_train_steps=32000\"\"\".format(APIMODEL_PATH, MODEL_PATH,CUSTOM_MODEL_NAME,MODEL_PATH,CUSTOM_MODEL_NAME))"
   ]
  },
  {
   "cell_type": "code",
   "execution_count": null,
   "metadata": {},
   "outputs": [],
   "source": []
  },
  {
   "cell_type": "markdown",
   "metadata": {},
   "source": [
    "# 7. Load Train Model From Checkpoint"
   ]
  },
  {
   "cell_type": "code",
   "execution_count": 11,
   "metadata": {},
   "outputs": [],
   "source": [
    "import os\n",
    "from object_detection.utils import label_map_util\n",
    "from object_detection.utils import visualization_utils as viz_utils\n",
    "from object_detection.builders import model_builder"
   ]
  },
  {
   "cell_type": "code",
   "execution_count": 12,
   "metadata": {},
   "outputs": [],
   "source": [
    "# Load pipeline config and build a detection model\n",
    "configs = config_util.get_configs_from_pipeline_file(CONFIG_PATH)\n",
    "detection_model = model_builder.build(model_config=configs['model'], is_training=False)\n",
    "\n",
    "# Restore checkpoint\n",
    "ckpt = tf.compat.v2.train.Checkpoint(model=detection_model)\n",
    "ckpt.restore(os.path.join(CHECKPOINT_PATH, 'ckpt-33')).expect_partial()\n",
    "\n",
    "@tf.function\n",
    "def detect_fn(image):\n",
    "    image, shapes = detection_model.preprocess(image)\n",
    "    prediction_dict = detection_model.predict(image, shapes)\n",
    "    detections = detection_model.postprocess(prediction_dict, shapes)\n",
    "    return detections"
   ]
  },
  {
   "cell_type": "markdown",
   "metadata": {},
   "source": [
    "# 8. Detect in Real-Time"
   ]
  },
  {
   "cell_type": "code",
   "execution_count": 13,
   "metadata": {},
   "outputs": [],
   "source": [
    "import cv2 \n",
    "import numpy as np"
   ]
  },
  {
   "cell_type": "code",
   "execution_count": 14,
   "metadata": {},
   "outputs": [],
   "source": [
    "category_index = label_map_util.create_category_index_from_labelmap(ANNOTATION_PATH+'/label_map.pbtxt')"
   ]
  },
  {
   "cell_type": "code",
   "execution_count": 16,
   "metadata": {},
   "outputs": [],
   "source": [
    "FOLDER = 'D:/Machine Learning/RealTimeObjectDetection/Video_frames'\n",
    "     "
   ]
  },
  {
   "cell_type": "code",
   "execution_count": 105,
   "metadata": {},
   "outputs": [],
   "source": [
    "cap.release()"
   ]
  },
  {
   "cell_type": "code",
   "execution_count": 19,
   "metadata": {},
   "outputs": [],
   "source": [
    "# Setup capture\n",
    "cap = cv2.VideoCapture(0)\n",
    "width = int(cap.get(cv2.CAP_PROP_FRAME_WIDTH))\n",
    "height = int(cap.get(cv2.CAP_PROP_FRAME_HEIGHT))"
   ]
  },
  {
   "cell_type": "code",
   "execution_count": 26,
   "metadata": {},
   "outputs": [
    {
     "name": "stdout",
     "output_type": "stream",
     "text": [
      "[[0.         0.         1.         1.        ]\n",
      " [0.3725118  0.30474576 1.         1.        ]\n",
      " [0.         0.00401044 1.         0.9399302 ]\n",
      " [0.44170022 0.08893764 1.         1.        ]\n",
      " [0.37041235 0.1090394  1.         0.8955138 ]\n",
      " [0.00889325 0.         0.9923246  0.8488034 ]\n",
      " [0.42765927 0.         1.         0.7516179 ]\n",
      " [0.         0.11569577 1.         1.        ]\n",
      " [0.28251112 0.4532161  1.         1.        ]\n",
      " [0.         0.         1.         0.82046187]\n",
      " [0.14022368 0.         1.         0.8124503 ]\n",
      " [0.30525836 0.3750767  1.         1.        ]\n",
      " [0.         0.19774005 0.81938934 1.        ]\n",
      " [0.02851036 0.40206173 0.98164856 1.        ]\n",
      " [0.         0.         1.         0.9757477 ]\n",
      " [0.00889325 0.         0.9923246  0.8488034 ]\n",
      " [0.         0.         1.         0.8622631 ]\n",
      " [0.         0.         1.         1.        ]\n",
      " [0.         0.         1.         0.8622631 ]\n",
      " [0.02078965 0.         0.9785557  0.61072916]\n",
      " [0.00889325 0.         0.9923246  0.8488034 ]\n",
      " [0.         0.11569577 1.         1.        ]\n",
      " [0.19900015 0.20837316 1.         1.        ]\n",
      " [0.         0.         1.         0.9757477 ]\n",
      " [0.         0.         1.         0.5456562 ]\n",
      " [0.6494459  0.2503702  0.9004735  0.5007086 ]\n",
      " [0.00783649 0.         0.9932027  0.9640571 ]\n",
      " [0.         0.3662107  1.         1.        ]\n",
      " [0.3649915  0.         1.         0.4834906 ]\n",
      " [0.5197283  0.         1.         0.6186613 ]\n",
      " [0.00889325 0.         0.9923246  0.8488034 ]\n",
      " [0.         0.37466908 0.7005441  1.        ]\n",
      " [0.         0.         0.8390151  0.77998966]\n",
      " [0.         0.         0.84062374 0.6202828 ]\n",
      " [0.6003511  0.2974164  0.85188556 0.5484446 ]\n",
      " [0.         0.         1.         0.82046187]\n",
      " [0.         0.         1.         0.8622631 ]\n",
      " [0.         0.         1.         0.9757477 ]\n",
      " [0.         0.03626859 0.8329661  0.91205657]\n",
      " [0.         0.         0.8016139  0.57137054]\n",
      " [0.19369859 0.3773365  1.         1.        ]\n",
      " [0.         0.         0.5784727  0.7626751 ]\n",
      " [0.         0.42138153 0.7775087  1.        ]\n",
      " [0.         0.         0.84062374 0.6202828 ]\n",
      " [0.01764166 0.08481187 0.9821194  1.        ]\n",
      " [0.7266751  0.7393591  0.9288855  1.        ]\n",
      " [0.         0.         1.         0.98924565]\n",
      " [0.7374917  0.84276116 0.9247459  1.        ]\n",
      " [0.         0.11569577 1.         1.        ]\n",
      " [0.         0.09526309 0.627837   0.8896638 ]\n",
      " [0.         0.         1.         1.        ]\n",
      " [0.         0.         1.         0.8622631 ]\n",
      " [0.         0.         0.62750536 0.6954106 ]\n",
      " [0.6523441  0.35777798 0.9016515  0.6072633 ]\n",
      " [0.24961501 0.18085194 1.         1.        ]\n",
      " [0.         0.         0.9142711  1.        ]\n",
      " [0.         0.         0.5784727  0.7626751 ]\n",
      " [0.02851036 0.40206173 0.98164856 1.        ]\n",
      " [0.         0.         0.90171826 1.        ]\n",
      " [0.38682008 0.         1.         0.80611885]\n",
      " [0.03684539 0.2867782  0.9623149  1.        ]\n",
      " [0.01764166 0.08481187 0.9821194  1.        ]\n",
      " [0.         0.11569577 1.         1.        ]\n",
      " [0.17678976 0.18302482 1.         1.        ]\n",
      " [0.69290876 0.7262043  0.955868   0.93187654]\n",
      " [0.         0.         0.8016139  0.57137054]\n",
      " [0.         0.         1.         0.82046187]\n",
      " [0.         0.         0.5027089  1.        ]\n",
      " [0.         0.21786416 0.57781726 1.        ]\n",
      " [0.         0.3662107  1.         1.        ]\n",
      " [0.         0.         0.8390151  0.77998966]\n",
      " [0.         0.         0.90171826 1.        ]\n",
      " [0.         0.         0.49394637 0.6130697 ]\n",
      " [0.         0.         1.         0.5456562 ]\n",
      " [0.         0.         1.         1.        ]\n",
      " [0.11192805 0.         1.         1.        ]\n",
      " [0.6880983  0.05260833 1.         0.44902432]\n",
      " [0.38296008 0.36942822 1.         1.        ]\n",
      " [0.         0.11569577 1.         1.        ]\n",
      " [0.02078965 0.         0.9785557  0.61072916]\n",
      " [0.         0.3662107  1.         1.        ]\n",
      " [0.43255746 0.4140692  1.         1.        ]\n",
      " [0.         0.         0.5784727  0.7626751 ]\n",
      " [0.14022368 0.         1.         0.8124503 ]\n",
      " [0.         0.         1.         0.82046187]\n",
      " [0.6913175  0.14414603 1.         0.5550584 ]\n",
      " [0.         0.49904186 0.24975604 0.75121206]\n",
      " [0.         0.         1.         0.5456562 ]\n",
      " [0.         0.         0.8708801  0.8171021 ]\n",
      " [0.         0.17013335 0.85174036 1.        ]\n",
      " [0.         0.         0.69756746 0.7596712 ]\n",
      " [0.         0.         0.61718607 1.        ]\n",
      " [0.         0.         1.         1.        ]\n",
      " [0.         0.00634211 1.         1.        ]\n",
      " [0.         0.         0.5027089  1.        ]\n",
      " [0.7383668  0.87662    1.         1.        ]\n",
      " [0.         0.3805632  0.8276051  1.        ]\n",
      " [0.         0.         0.61931276 0.6210836 ]\n",
      " [0.         0.         0.84062374 0.6202828 ]\n",
      " [0.         0.3662107  1.         1.        ]]\n"
     ]
    }
   ],
   "source": [
    "i = 0\n",
    "for file in os.listdir(FOLDER):\n",
    "    #print(FOLDER + file)\n",
    "    frame = cv2.imread(FOLDER +'/'+ file)\n",
    "    \n",
    "    image_np = np.array(frame)\n",
    "    i += 1\n",
    "    input_tensor = tf.convert_to_tensor(np.expand_dims(image_np, 0), dtype=tf.float32)\n",
    "    detections = detect_fn(input_tensor)\n",
    "    \n",
    "    num_detections = int(detections.pop('num_detections'))\n",
    "    detections = {key: value[0, :num_detections].numpy()\n",
    "                  for key, value in detections.items()}\n",
    "    detections['num_detections'] = num_detections\n",
    "\n",
    "    # detection_classes should be ints.\n",
    "    detections['detection_classes'] = detections['detection_classes'].astype(np.int64)\n",
    "\n",
    "    label_id_offset = 1\n",
    "    image_np_with_detections = image_np.copy()\n",
    "    print(detections['detection_boxes'])\n",
    "    viz_utils.visualize_boxes_and_labels_on_image_array(\n",
    "                image_np_with_detections,\n",
    "                detections['detection_boxes'],\n",
    "                detections['detection_classes'] + label_id_offset,\n",
    "                detections['detection_scores'],\n",
    "                category_index,\n",
    "                use_normalized_coordinates=True,\n",
    "                max_boxes_to_draw=2,\n",
    "                min_score_thresh=.1,\n",
    "                agnostic_mode=False)\n",
    "\n",
    "    #cv2.imshow('object detection',  cv2.resize(image_np_with_detections, (800, 600)))\n",
    "    cv2.imwrite('D:/Machine Learning/RealTimeObjectDetection/Detected_frames/frame' + str (i) + '.jpg', image_np_with_detections)\n",
    "    '''if cv2.waitKey(1) & 0xFF == ord('q'):\n",
    "        cap.release()\n",
    "        break'''"
   ]
  },
  {
   "cell_type": "code",
   "execution_count": 21,
   "metadata": {},
   "outputs": [
    {
     "name": "stdout",
     "output_type": "stream",
     "text": [
      "{'detection_boxes': <tf.Tensor: shape=(1, 100, 4), dtype=float32, numpy=\n",
      "array([[[0.        , 0.        , 1.        , 1.        ],\n",
      "        [0.00982288, 0.        , 0.99253106, 0.85240746],\n",
      "        [0.        , 0.010995  , 1.        , 0.94409966],\n",
      "        [0.37070888, 0.30989102, 1.        , 1.        ],\n",
      "        [0.44379634, 0.0839619 , 1.        , 1.        ],\n",
      "        [0.36963248, 0.11252198, 1.        , 0.8905176 ],\n",
      "        [0.4281221 , 0.        , 1.        , 0.7496372 ],\n",
      "        [0.        , 0.        , 1.        , 0.82337487],\n",
      "        [0.        , 0.11620069, 1.        , 1.        ],\n",
      "        [0.23434713, 0.41739094, 1.        , 1.        ],\n",
      "        [0.        , 0.        , 1.        , 1.        ],\n",
      "        [0.        , 0.        , 1.        , 0.5409044 ],\n",
      "        [0.        , 0.        , 1.        , 0.8676545 ],\n",
      "        [0.1968269 , 0.21005818, 1.        , 1.        ],\n",
      "        [0.        , 0.19769558, 0.8214438 , 1.        ],\n",
      "        [0.        , 0.11620069, 1.        , 1.        ],\n",
      "        [0.38678437, 0.18554169, 1.        , 1.        ],\n",
      "        [0.        , 0.421506  , 0.77688694, 1.        ],\n",
      "        [0.3848338 , 0.        , 1.        , 0.80658686],\n",
      "        [0.0182572 , 0.08295089, 0.9815552 , 1.        ],\n",
      "        [0.        , 0.        , 1.        , 0.9824816 ],\n",
      "        [0.        , 0.        , 1.        , 0.9824816 ],\n",
      "        [0.09389547, 0.37098497, 0.91312027, 1.        ],\n",
      "        [0.        , 0.        , 1.        , 0.9824816 ],\n",
      "        [0.14101964, 0.        , 1.        , 0.81327856],\n",
      "        [0.02213877, 0.        , 0.9783967 , 0.6071137 ],\n",
      "        [0.        , 0.        , 1.        , 0.9824816 ],\n",
      "        [0.3652736 , 0.        , 1.        , 0.48352194],\n",
      "        [0.        , 0.        , 0.7607845 , 0.87192005],\n",
      "        [0.        , 0.        , 1.        , 0.82337487],\n",
      "        [0.11035299, 0.        , 1.        , 1.        ],\n",
      "        [0.00982288, 0.        , 0.99253106, 0.85240746],\n",
      "        [0.5202974 , 0.        , 1.        , 0.61905974],\n",
      "        [0.        , 0.36490077, 1.        , 1.        ],\n",
      "        [0.        , 0.        , 1.        , 0.82337487],\n",
      "        [0.        , 0.421506  , 0.77688694, 1.        ],\n",
      "        [0.60544324, 0.3017028 , 0.8562417 , 0.5520551 ],\n",
      "        [0.02213877, 0.        , 0.9783967 , 0.6071137 ],\n",
      "        [0.        , 0.11620069, 1.        , 1.        ],\n",
      "        [0.        , 0.        , 0.8343909 , 0.78279614],\n",
      "        [0.        , 0.11620069, 1.        , 1.        ],\n",
      "        [0.72670203, 0.7393734 , 0.92886895, 1.        ],\n",
      "        [0.73749685, 0.8427584 , 0.92473876, 1.        ],\n",
      "        [0.        , 0.        , 0.79437613, 0.5724359 ],\n",
      "        [0.        , 0.        , 0.92221516, 1.        ],\n",
      "        [0.        , 0.09137756, 0.62739015, 0.8932193 ],\n",
      "        [0.        , 0.        , 0.58002216, 0.76453006],\n",
      "        [0.2172428 , 0.        , 1.        , 0.5719285 ],\n",
      "        [0.        , 0.        , 0.58002216, 0.76453006],\n",
      "        [0.        , 0.        , 0.9002467 , 1.        ],\n",
      "        [0.        , 0.        , 1.        , 0.82337487],\n",
      "        [0.        , 0.11620069, 1.        , 1.        ],\n",
      "        [0.        , 0.        , 1.        , 1.        ],\n",
      "        [0.02213877, 0.        , 0.9783967 , 0.6071137 ],\n",
      "        [0.6507965 , 0.24915732, 0.9002977 , 0.49771565],\n",
      "        [0.        , 0.        , 0.50579065, 1.        ],\n",
      "        [0.0287942 , 0.4005871 , 0.98051095, 1.        ],\n",
      "        [0.6894356 , 0.04785167, 1.        , 0.45272297],\n",
      "        [0.17238843, 0.18399698, 1.        , 1.        ],\n",
      "        [0.        , 0.36490077, 1.        , 1.        ],\n",
      "        [0.69290835, 0.72619814, 0.9558932 , 0.931752  ],\n",
      "        [0.        , 0.36490077, 1.        , 1.        ],\n",
      "        [0.        , 0.217087  , 0.57818824, 1.        ],\n",
      "        [0.        , 0.01215732, 1.        , 1.        ],\n",
      "        [0.29542392, 0.04609358, 1.        , 0.95714533],\n",
      "        [0.        , 0.        , 0.8343909 , 0.78279614],\n",
      "        [0.        , 0.        , 0.79437613, 0.5724359 ],\n",
      "        [0.00982288, 0.        , 0.99253106, 0.85240746],\n",
      "        [0.14101964, 0.        , 1.        , 0.81327856],\n",
      "        [0.        , 0.15790182, 1.        , 1.        ],\n",
      "        [0.        , 0.        , 0.58002216, 0.76453006],\n",
      "        [0.        , 0.        , 1.        , 1.        ],\n",
      "        [0.        , 0.49902946, 0.24964306, 0.75118285],\n",
      "        [0.        , 0.        , 0.49502373, 0.61191106],\n",
      "        [0.        , 0.        , 0.58002216, 0.76453006],\n",
      "        [0.        , 0.36490077, 1.        , 1.        ],\n",
      "        [0.        , 0.010995  , 1.        , 0.94409966],\n",
      "        [0.        , 0.        , 0.61716044, 1.        ],\n",
      "        [0.        , 0.        , 0.6930502 , 0.7607634 ],\n",
      "        [0.        , 0.38026392, 0.8271813 , 1.        ],\n",
      "        [0.        , 0.        , 0.9002467 , 1.        ],\n",
      "        [0.        , 0.        , 1.        , 0.9788341 ],\n",
      "        [0.73836476, 0.876628  , 1.        , 1.        ],\n",
      "        [0.        , 0.        , 0.90690863, 1.        ],\n",
      "        [0.        , 0.        , 0.58002216, 0.76453006],\n",
      "        [0.        , 0.29290694, 0.62636644, 1.        ],\n",
      "        [0.        , 0.        , 1.        , 0.8676545 ],\n",
      "        [0.        , 0.        , 0.86594826, 0.81843084],\n",
      "        [0.        , 0.        , 0.6275524 , 0.48999476],\n",
      "        [0.        , 0.        , 0.50579065, 1.        ],\n",
      "        [0.        , 0.03578815, 0.83287466, 0.91536725],\n",
      "        [0.6156961 , 0.3942737 , 0.86743367, 0.6463545 ],\n",
      "        [0.        , 0.        , 0.50579065, 1.        ],\n",
      "        [0.24272868, 0.        , 1.        , 0.87197506],\n",
      "        [0.        , 0.        , 0.45464334, 0.2831118 ],\n",
      "        [0.        , 0.        , 0.83336365, 0.6201677 ],\n",
      "        [0.38101435, 0.        , 1.        , 0.63044655],\n",
      "        [0.        , 0.        , 0.61820304, 0.62083966],\n",
      "        [0.        , 0.29290694, 0.62636644, 1.        ],\n",
      "        [0.        , 0.18236274, 0.6159214 , 1.        ]]], dtype=float32)>, 'detection_scores': <tf.Tensor: shape=(1, 100), dtype=float32, numpy=\n",
      "array([[0.44596624, 0.28455082, 0.1721788 , 0.12793362, 0.11202333,\n",
      "        0.07787604, 0.06921944, 0.05940123, 0.05486184, 0.05166556,\n",
      "        0.04543596, 0.03579216, 0.03503779, 0.03338316, 0.03325151,\n",
      "        0.03233948, 0.03213289, 0.03125494, 0.0303353 , 0.02800157,\n",
      "        0.02765709, 0.0271022 , 0.02693208, 0.02652217, 0.02623918,\n",
      "        0.02501385, 0.0246305 , 0.02367901, 0.02348923, 0.02293593,\n",
      "        0.02079671, 0.02064999, 0.02048464, 0.02043068, 0.02014122,\n",
      "        0.01975825, 0.01949908, 0.01908544, 0.01884815, 0.0186905 ,\n",
      "        0.01859926, 0.01744249, 0.0171938 , 0.01708803, 0.01696446,\n",
      "        0.01681497, 0.0165225 , 0.01651722, 0.01641985, 0.01603179,\n",
      "        0.01601722, 0.0158918 , 0.01582634, 0.01544732, 0.01538938,\n",
      "        0.01537518, 0.01503564, 0.01488058, 0.01482899, 0.01470997,\n",
      "        0.01470757, 0.01469636, 0.01455721, 0.01439768, 0.01412423,\n",
      "        0.01408385, 0.01395156, 0.01394229, 0.01384549, 0.01363367,\n",
      "        0.01353219, 0.01307061, 0.01283516, 0.01280629, 0.01272502,\n",
      "        0.01262235, 0.01261219, 0.01259822, 0.01245712, 0.01232248,\n",
      "        0.01227784, 0.01223486, 0.01222487, 0.01211091, 0.01209915,\n",
      "        0.01206671, 0.01200593, 0.01195673, 0.01193398, 0.01193322,\n",
      "        0.01171888, 0.01170085, 0.01169104, 0.01168127, 0.01155978,\n",
      "        0.01152573, 0.01150034, 0.01143909, 0.01137631, 0.01135051]],\n",
      "      dtype=float32)>, 'detection_classes': <tf.Tensor: shape=(1, 100), dtype=float32, numpy=\n",
      "array([[ 3.,  0.,  4.,  3.,  3.,  3.,  3.,  5.,  1.,  3.,  3.,  0., 23.,\n",
      "         4.,  4.,  5.,  1.,  3.,  1.,  0.,  8., 12.,  3., 21.,  4.,  4.,\n",
      "        22.,  3.,  0., 25., 17., 13.,  3.,  1., 19.,  0.,  4.,  5.,  3.,\n",
      "         4., 23.,  3.,  3., 11.,  9., 16.,  2.,  0., 19., 24., 11., 20.,\n",
      "        13., 19.,  4.,  2.,  4., 11., 21.,  5.,  3., 23.,  2., 21.,  1.,\n",
      "        22., 25.,  1., 12., 25., 24.,  5.,  4.,  2., 22., 21., 18.,  9.,\n",
      "        15., 25., 14., 16.,  3.,  5., 16., 16.,  6.,  3., 16., 21., 25.,\n",
      "         4., 19.,  5., 16., 24., 14., 15., 21., 19.]], dtype=float32)>, 'num_detections': <tf.Tensor: shape=(1,), dtype=float32, numpy=array([100.], dtype=float32)>, 'raw_detection_boxes': <tf.Tensor: shape=(1, 12804, 4), dtype=float32, numpy=\n",
      "array([[[-0.04588491, -0.04693704,  0.07143865,  0.06877026],\n",
      "        [-0.05212615, -0.0530023 ,  0.07690091,  0.07763311],\n",
      "        [-0.03546253, -0.05536871,  0.06107712,  0.07802747],\n",
      "        ...,\n",
      "        [-0.14090729, -0.44261277,  1.7375481 ,  1.8234562 ],\n",
      "        [-0.23540992, -0.16679269,  1.8349502 ,  1.5523736 ],\n",
      "        [-0.35053778, -0.10412109,  1.9238336 ,  1.7434429 ]]],\n",
      "      dtype=float32)>, 'raw_detection_scores': <tf.Tensor: shape=(1, 12804, 27), dtype=float32, numpy=\n",
      "array([[[1.76827773e-03, 1.06690728e-04, 9.72533773e-04, ...,\n",
      "         1.68487997e-04, 4.93398984e-04, 3.54246324e-04],\n",
      "        [1.41661917e-03, 6.77163698e-05, 9.63822298e-04, ...,\n",
      "         3.32950731e-04, 4.57516056e-04, 4.29113948e-04],\n",
      "        [2.38588126e-03, 9.29913294e-05, 7.60103634e-04, ...,\n",
      "         4.14384645e-04, 7.37549039e-04, 5.94766170e-04],\n",
      "        ...,\n",
      "        [2.14408245e-03, 3.01463006e-04, 2.16877579e-05, ...,\n",
      "         1.51137894e-04, 4.02456673e-04, 9.04116823e-05],\n",
      "        [7.47864018e-04, 3.65367014e-04, 2.10014150e-05, ...,\n",
      "         4.89692320e-04, 2.86298076e-04, 3.26116016e-04],\n",
      "        [1.58057184e-04, 4.61340351e-05, 1.43035395e-05, ...,\n",
      "         4.04891034e-04, 8.16875894e-04, 1.14865310e-03]]], dtype=float32)>, 'detection_multiclass_scores': <tf.Tensor: shape=(1, 100, 27), dtype=float32, numpy=\n",
      "array([[[5.3924188e-04, 3.4979839e-04, 1.6331694e-05, ...,\n",
      "         4.4402658e-04, 2.0238536e-04, 2.9669417e-04],\n",
      "        [1.0029698e-02, 2.8455082e-01, 1.3942285e-02, ...,\n",
      "         1.9997928e-02, 1.4344026e-02, 1.6703561e-02],\n",
      "        [8.0680717e-03, 1.0413263e-01, 2.1167569e-02, ...,\n",
      "         1.7531671e-02, 1.4065135e-02, 2.0148262e-02],\n",
      "        ...,\n",
      "        [5.1370249e-03, 6.1219977e-03, 8.2284901e-03, ...,\n",
      "         5.1954491e-03, 7.3724175e-03, 6.1530247e-03],\n",
      "        [4.4700769e-03, 2.8674328e-03, 7.0565348e-03, ...,\n",
      "         5.6269960e-03, 9.4204880e-03, 6.5534366e-03],\n",
      "        [3.7840803e-03, 4.4885445e-03, 4.7177644e-03, ...,\n",
      "         4.2186915e-03, 6.8425592e-03, 6.4158076e-03]]], dtype=float32)>, 'detection_anchor_indices': <tf.Tensor: shape=(1, 100), dtype=int32, numpy=\n",
      "array([[12796, 12666, 12676, 12742, 12741, 12736, 12726, 12670, 12679,\n",
      "        12714, 12800, 12664, 12667, 12708, 12648, 12679, 12739, 12654,\n",
      "        12727, 12681, 12673, 12673, 12686, 12673, 12697, 12660, 12673,\n",
      "        12724, 12639, 12670, 12703, 12666, 12722, 12685, 12670, 12654,\n",
      "        11329, 12660, 12679, 12636, 12679, 11624, 11636, 12630, 12762,\n",
      "        12616, 12606, 12690, 12606, 12643, 12670, 12679, 12767, 12660,\n",
      "        11443, 12614, 12684, 12556, 12709, 12685, 11620, 12685, 12618,\n",
      "        12766, 12737, 12636, 12630, 12666, 12697, 12682, 12606, 12767,\n",
      "         9913, 12602, 12606, 12685, 12676, 12613, 12611, 12655, 12643,\n",
      "        12770, 11758, 12765, 12606, 12622, 12667, 12637, 12604, 12614,\n",
      "        12646, 11341, 12614, 12699, 12065, 12631, 12721, 12601, 12622,\n",
      "        12619]])>}\n"
     ]
    }
   ],
   "source": [
    "detections = detect_fn(input_tensor)\n",
    "print(detections)"
   ]
  },
  {
   "cell_type": "code",
   "execution_count": 20,
   "metadata": {},
   "outputs": [],
   "source": [
    "from matplotlib import pyplot as plt"
   ]
  },
  {
   "cell_type": "code",
   "execution_count": null,
   "metadata": {},
   "outputs": [],
   "source": []
  }
 ],
 "metadata": {
  "kernelspec": {
   "display_name": "Python 3",
   "language": "python",
   "name": "python3"
  },
  "language_info": {
   "codemirror_mode": {
    "name": "ipython",
    "version": 3
   },
   "file_extension": ".py",
   "mimetype": "text/x-python",
   "name": "python",
   "nbconvert_exporter": "python",
   "pygments_lexer": "ipython3",
   "version": "3.7.3"
  }
 },
 "nbformat": 4,
 "nbformat_minor": 2
}
