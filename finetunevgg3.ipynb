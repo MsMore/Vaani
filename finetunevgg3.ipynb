{
  "nbformat": 4,
  "nbformat_minor": 0,
  "metadata": {
    "colab": {
      "name": "finetunevgg3.ipynb",
      "provenance": [],
      "machine_shape": "hm",
      "authorship_tag": "ABX9TyPzCCpzDteiOE7Z8ksl55y6",
      "include_colab_link": true
    },
    "kernelspec": {
      "name": "python3",
      "display_name": "Python 3"
    },
    "language_info": {
      "name": "python"
    },
    "accelerator": "GPU"
  },
  "cells": [
    {
      "cell_type": "markdown",
      "metadata": {
        "id": "view-in-github",
        "colab_type": "text"
      },
      "source": [
        "<a href=\"https://colab.research.google.com/github/MsMore/Vaani/blob/main/finetunevgg3.ipynb\" target=\"_parent\"><img src=\"https://colab.research.google.com/assets/colab-badge.svg\" alt=\"Open In Colab\"/></a>"
      ]
    },
    {
      "cell_type": "code",
      "metadata": {
        "colab": {
          "base_uri": "https://localhost:8080/"
        },
        "id": "Pl4BAFcZmd7z",
        "outputId": "cfaafc64-1674-4d61-e065-847f2bd72b4f"
      },
      "source": [
        "from google.colab import drive\n",
        "drive.mount('/content/drive', force_remount = True)"
      ],
      "execution_count": null,
      "outputs": [
        {
          "output_type": "stream",
          "text": [
            "Mounted at /content/drive\n"
          ],
          "name": "stdout"
        }
      ]
    },
    {
      "cell_type": "code",
      "metadata": {
        "id": "9SHmAXwxmkP1"
      },
      "source": [
        "import os.path\n",
        "import tensorflow as tf\n",
        "from keras.callbacks import TensorBoard\n",
        "from keras import Model, optimizers\n",
        "from keras.applications import vgg16\n",
        "from keras.layers import GlobalAveragePooling2D, Dense\n",
        "from keras.preprocessing.image import ImageDataGenerator"
      ],
      "execution_count": null,
      "outputs": []
    },
    {
      "cell_type": "code",
      "metadata": {
        "id": "D_ZMwOcrmkSs"
      },
      "source": [
        "img_width = 128\n",
        "img_height = 128\n",
        "\n",
        "epochs = 5\n",
        "epochs_ft = 10\n",
        "batch_size = 32\n",
        "\n",
        "train_path = '/content/drive/MyDrive/Img/Train'\n",
        "validation_path = '/content/drive/MyDrive/Img/Validation'\n",
        "\n",
        "nb_classes = 29"
      ],
      "execution_count": null,
      "outputs": []
    },
    {
      "cell_type": "code",
      "metadata": {
        "id": "D0byuH9XmkWb"
      },
      "source": [
        "training_samples = sum([len(files) for r, d, files in os.walk(train_path)])\n",
        "testing_samples = sum([len(files) for r, d, files in os.walk(validation_path)])"
      ],
      "execution_count": null,
      "outputs": []
    },
    {
      "cell_type": "code",
      "metadata": {
        "id": "_JW9Bvv3mkZT"
      },
      "source": [
        "train_datagen = ImageDataGenerator(\n",
        "    rotation_range=30,\n",
        "    width_shift_range=0.3,\n",
        "    height_shift_range=0.2,\n",
        "    rescale=1.0 / 255,\n",
        "    shear_range=0.3,\n",
        "    zoom_range=0.3,\n",
        "    horizontal_flip=True,\n",
        "    vertical_flip=False,\n",
        ")\n",
        "\n",
        "validation_datagen = ImageDataGenerator(rescale=1.0 / 255)"
      ],
      "execution_count": null,
      "outputs": []
    },
    {
      "cell_type": "code",
      "metadata": {
        "colab": {
          "base_uri": "https://localhost:8080/"
        },
        "id": "Dg4LKC7Zmkcr",
        "outputId": "76e14eff-8f00-4a86-e4df-f38619b8abe5"
      },
      "source": [
        "train_generator = train_datagen.flow_from_directory(\n",
        "    train_path,\n",
        "    target_size=(img_width, img_height),\n",
        "    batch_size=batch_size,\n",
        "    class_mode='categorical',\n",
        ")\n",
        "\n",
        "test_generator = validation_datagen.flow_from_directory(\n",
        "    validation_path,\n",
        "    target_size=(img_width, img_height),\n",
        "    batch_size=batch_size,\n",
        "    class_mode='categorical',\n",
        ")"
      ],
      "execution_count": null,
      "outputs": [
        {
          "output_type": "stream",
          "text": [
            "Found 10150 images belonging to 29 classes.\n",
            "Found 2909 images belonging to 29 classes.\n"
          ],
          "name": "stdout"
        }
      ]
    },
    {
      "cell_type": "code",
      "metadata": {
        "id": "naplJNI4mkfG"
      },
      "source": [
        "def add_top(base):\n",
        "    x = base.output\n",
        "\n",
        "    # Global averaging pool layer\n",
        "    x = tf.keras.layers.GlobalAveragePooling2D()(x)\n",
        "\n",
        "    # Regular densely connected layer\n",
        "    x = Dense(512, activation='relu')(x)\n",
        "\n",
        "    # Output layer\n",
        "    predictions = Dense(nb_classes, activation='softmax')(x)\n",
        "\n",
        "    return Model(inputs=base.input, outputs=predictions)"
      ],
      "execution_count": null,
      "outputs": []
    },
    {
      "cell_type": "code",
      "metadata": {
        "id": "ayBTidrjmkh9"
      },
      "source": [
        "def setup_model(model, base):\n",
        "    # Freeze the un-trainable layers of the model base\n",
        "    for layer in base.layers:\n",
        "        layer.trainable = False\n",
        "\n",
        "    model.compile(\n",
        "        loss='categorical_crossentropy',\n",
        "        optimizer='rmsprop',\n",
        "        metrics=['accuracy']\n",
        "    )"
      ],
      "execution_count": null,
      "outputs": []
    },
    {
      "cell_type": "code",
      "metadata": {
        "id": "StVh0wSZmkkR"
      },
      "source": [
        "VGG_base = vgg16.VGG16(\n",
        "    include_top=False,\n",
        "    weights='imagenet',\n",
        "    input_shape=(img_width, img_height, 3),\n",
        "    classes = 29\n",
        ")"
      ],
      "execution_count": null,
      "outputs": []
    },
    {
      "cell_type": "code",
      "metadata": {
        "colab": {
          "base_uri": "https://localhost:8080/"
        },
        "id": "t3RcfSrvmkmu",
        "outputId": "3fb90186-610b-41f3-c1e2-1f3f8b0fe3ea"
      },
      "source": [
        "VGG_base.summary()"
      ],
      "execution_count": null,
      "outputs": [
        {
          "output_type": "stream",
          "text": [
            "Model: \"vgg16\"\n",
            "_________________________________________________________________\n",
            "Layer (type)                 Output Shape              Param #   \n",
            "=================================================================\n",
            "input_1 (InputLayer)         [(None, 128, 128, 3)]     0         \n",
            "_________________________________________________________________\n",
            "block1_conv1 (Conv2D)        (None, 128, 128, 64)      1792      \n",
            "_________________________________________________________________\n",
            "block1_conv2 (Conv2D)        (None, 128, 128, 64)      36928     \n",
            "_________________________________________________________________\n",
            "block1_pool (MaxPooling2D)   (None, 64, 64, 64)        0         \n",
            "_________________________________________________________________\n",
            "block2_conv1 (Conv2D)        (None, 64, 64, 128)       73856     \n",
            "_________________________________________________________________\n",
            "block2_conv2 (Conv2D)        (None, 64, 64, 128)       147584    \n",
            "_________________________________________________________________\n",
            "block2_pool (MaxPooling2D)   (None, 32, 32, 128)       0         \n",
            "_________________________________________________________________\n",
            "block3_conv1 (Conv2D)        (None, 32, 32, 256)       295168    \n",
            "_________________________________________________________________\n",
            "block3_conv2 (Conv2D)        (None, 32, 32, 256)       590080    \n",
            "_________________________________________________________________\n",
            "block3_conv3 (Conv2D)        (None, 32, 32, 256)       590080    \n",
            "_________________________________________________________________\n",
            "block3_pool (MaxPooling2D)   (None, 16, 16, 256)       0         \n",
            "_________________________________________________________________\n",
            "block4_conv1 (Conv2D)        (None, 16, 16, 512)       1180160   \n",
            "_________________________________________________________________\n",
            "block4_conv2 (Conv2D)        (None, 16, 16, 512)       2359808   \n",
            "_________________________________________________________________\n",
            "block4_conv3 (Conv2D)        (None, 16, 16, 512)       2359808   \n",
            "_________________________________________________________________\n",
            "block4_pool (MaxPooling2D)   (None, 8, 8, 512)         0         \n",
            "_________________________________________________________________\n",
            "block5_conv1 (Conv2D)        (None, 8, 8, 512)         2359808   \n",
            "_________________________________________________________________\n",
            "block5_conv2 (Conv2D)        (None, 8, 8, 512)         2359808   \n",
            "_________________________________________________________________\n",
            "block5_conv3 (Conv2D)        (None, 8, 8, 512)         2359808   \n",
            "_________________________________________________________________\n",
            "block5_pool (MaxPooling2D)   (None, 4, 4, 512)         0         \n",
            "=================================================================\n",
            "Total params: 14,714,688\n",
            "Trainable params: 14,714,688\n",
            "Non-trainable params: 0\n",
            "_________________________________________________________________\n"
          ],
          "name": "stdout"
        }
      ]
    },
    {
      "cell_type": "code",
      "metadata": {
        "id": "q_clJApimkqH"
      },
      "source": [
        "model = add_top(VGG_base)\n",
        "setup_model(model, VGG_base)"
      ],
      "execution_count": null,
      "outputs": []
    },
    {
      "cell_type": "code",
      "metadata": {
        "colab": {
          "base_uri": "https://localhost:8080/"
        },
        "id": "euKQPtQjmksn",
        "outputId": "ad71e808-9bf2-445e-f730-e9a8d74b9ee1"
      },
      "source": [
        "model.summary()"
      ],
      "execution_count": null,
      "outputs": [
        {
          "output_type": "stream",
          "text": [
            "Model: \"model\"\n",
            "_________________________________________________________________\n",
            "Layer (type)                 Output Shape              Param #   \n",
            "=================================================================\n",
            "input_1 (InputLayer)         [(None, 128, 128, 3)]     0         \n",
            "_________________________________________________________________\n",
            "block1_conv1 (Conv2D)        (None, 128, 128, 64)      1792      \n",
            "_________________________________________________________________\n",
            "block1_conv2 (Conv2D)        (None, 128, 128, 64)      36928     \n",
            "_________________________________________________________________\n",
            "block1_pool (MaxPooling2D)   (None, 64, 64, 64)        0         \n",
            "_________________________________________________________________\n",
            "block2_conv1 (Conv2D)        (None, 64, 64, 128)       73856     \n",
            "_________________________________________________________________\n",
            "block2_conv2 (Conv2D)        (None, 64, 64, 128)       147584    \n",
            "_________________________________________________________________\n",
            "block2_pool (MaxPooling2D)   (None, 32, 32, 128)       0         \n",
            "_________________________________________________________________\n",
            "block3_conv1 (Conv2D)        (None, 32, 32, 256)       295168    \n",
            "_________________________________________________________________\n",
            "block3_conv2 (Conv2D)        (None, 32, 32, 256)       590080    \n",
            "_________________________________________________________________\n",
            "block3_conv3 (Conv2D)        (None, 32, 32, 256)       590080    \n",
            "_________________________________________________________________\n",
            "block3_pool (MaxPooling2D)   (None, 16, 16, 256)       0         \n",
            "_________________________________________________________________\n",
            "block4_conv1 (Conv2D)        (None, 16, 16, 512)       1180160   \n",
            "_________________________________________________________________\n",
            "block4_conv2 (Conv2D)        (None, 16, 16, 512)       2359808   \n",
            "_________________________________________________________________\n",
            "block4_conv3 (Conv2D)        (None, 16, 16, 512)       2359808   \n",
            "_________________________________________________________________\n",
            "block4_pool (MaxPooling2D)   (None, 8, 8, 512)         0         \n",
            "_________________________________________________________________\n",
            "block5_conv1 (Conv2D)        (None, 8, 8, 512)         2359808   \n",
            "_________________________________________________________________\n",
            "block5_conv2 (Conv2D)        (None, 8, 8, 512)         2359808   \n",
            "_________________________________________________________________\n",
            "block5_conv3 (Conv2D)        (None, 8, 8, 512)         2359808   \n",
            "_________________________________________________________________\n",
            "block5_pool (MaxPooling2D)   (None, 4, 4, 512)         0         \n",
            "_________________________________________________________________\n",
            "global_average_pooling2d (Gl (None, 512)               0         \n",
            "_________________________________________________________________\n",
            "dense (Dense)                (None, 512)               262656    \n",
            "_________________________________________________________________\n",
            "dense_1 (Dense)              (None, 29)                14877     \n",
            "=================================================================\n",
            "Total params: 14,992,221\n",
            "Trainable params: 277,533\n",
            "Non-trainable params: 14,714,688\n",
            "_________________________________________________________________\n"
          ],
          "name": "stdout"
        }
      ]
    },
    {
      "cell_type": "code",
      "metadata": {
        "colab": {
          "base_uri": "https://localhost:8080/"
        },
        "id": "AaOWnYeEm43y",
        "outputId": "e9d32273-486d-4f0b-b9e6-81d7173a3951"
      },
      "source": [
        "!pip install tensorboardcolab"
      ],
      "execution_count": null,
      "outputs": [
        {
          "output_type": "stream",
          "text": [
            "Collecting tensorboardcolab\n",
            "  Downloading https://files.pythonhosted.org/packages/d9/28/97bf50473dc058d26188ef3aae373e56173d24c615fb419705cfffa6875d/tensorboardcolab-0.0.22.tar.gz\n",
            "Building wheels for collected packages: tensorboardcolab\n",
            "  Building wheel for tensorboardcolab (setup.py) ... \u001b[?25l\u001b[?25hdone\n",
            "  Created wheel for tensorboardcolab: filename=tensorboardcolab-0.0.22-cp37-none-any.whl size=3860 sha256=f3aa67e988e869ac779534d963a7c3183715199e4b92dd42c25363f34a0d5ccf\n",
            "  Stored in directory: /root/.cache/pip/wheels/c4/aa/a0/3aaf4f1a66adbdab9b7bdd4c96db8ada89eb7cd87200cfdd32\n",
            "Successfully built tensorboardcolab\n",
            "Installing collected packages: tensorboardcolab\n",
            "Successfully installed tensorboardcolab-0.0.22\n"
          ],
          "name": "stdout"
        }
      ]
    },
    {
      "cell_type": "code",
      "metadata": {
        "id": "IeJ6Uobjm46I"
      },
      "source": [
        "from keras.callbacks import ReduceLROnPlateau\n",
        "import tensorflow as tf\n",
        "from keras.callbacks import ModelCheckpoint\n",
        "lr_reduce = ReduceLROnPlateau(monitor='val_accuracy', factor=0.6, patience=8, verbose=1, mode='max', min_lr=5e-5)\n",
        "checkpoint = ModelCheckpoint('vgg16FT.h15', monitor= 'val_accuracy', mode= 'max', save_best_only = True, verbose= 1)"
      ],
      "execution_count": null,
      "outputs": []
    },
    {
      "cell_type": "code",
      "metadata": {
        "colab": {
          "base_uri": "https://localhost:8080/"
        },
        "id": "BWZLDzcxm49i",
        "outputId": "4fa5cee2-6d6c-4007-f74e-e9049c60ec01"
      },
      "source": [
        "from tensorboardcolab import TensorBoardColab, TensorBoardColabCallback\n",
        "tbc=TensorBoardColab()"
      ],
      "execution_count": null,
      "outputs": [
        {
          "output_type": "stream",
          "text": [
            "Wait for 8 seconds...\n",
            "TensorBoard link:\n",
            "https://2b832d6524c3.ngrok.io\n"
          ],
          "name": "stdout"
        }
      ]
    },
    {
      "cell_type": "code",
      "metadata": {
        "id": "QyOShDfEJ4dj"
      },
      "source": [
        "!kill 430"
      ],
      "execution_count": null,
      "outputs": []
    },
    {
      "cell_type": "code",
      "metadata": {
        "colab": {
          "base_uri": "https://localhost:8080/",
          "height": 871
        },
        "id": "F_3GykFNnC_e",
        "outputId": "d3491df3-4b4b-480a-eac5-d395c52314e7"
      },
      "source": [
        "%load_ext tensorboard\n",
        "%tensorboard --logdir /content/drive/MyDrive/VGG/pptlogs/"
      ],
      "execution_count": null,
      "outputs": [
        {
          "output_type": "stream",
          "text": [
            "The tensorboard extension is already loaded. To reload it, use:\n",
            "  %reload_ext tensorboard\n"
          ],
          "name": "stdout"
        },
        {
          "output_type": "display_data",
          "data": {
            "text/plain": [
              "Reusing TensorBoard on port 6006 (pid 430), started 2:28:54 ago. (Use '!kill 430' to kill it.)"
            ]
          },
          "metadata": {
            "tags": []
          }
        },
        {
          "output_type": "display_data",
          "data": {
            "application/javascript": [
              "\n",
              "        (async () => {\n",
              "            const url = new URL(await google.colab.kernel.proxyPort(6006, {'cache': true}));\n",
              "            url.searchParams.set('tensorboardColab', 'true');\n",
              "            const iframe = document.createElement('iframe');\n",
              "            iframe.src = url;\n",
              "            iframe.setAttribute('width', '100%');\n",
              "            iframe.setAttribute('height', '800');\n",
              "            iframe.setAttribute('frameborder', 0);\n",
              "            document.body.appendChild(iframe);\n",
              "        })();\n",
              "    "
            ],
            "text/plain": [
              "<IPython.core.display.Javascript object>"
            ]
          },
          "metadata": {
            "tags": []
          }
        }
      ]
    },
    {
      "cell_type": "code",
      "metadata": {
        "colab": {
          "base_uri": "https://localhost:8080/"
        },
        "id": "Rbua9zN8nDC2",
        "outputId": "cba10019-bcdb-47b9-a34a-9c409b412005"
      },
      "source": [
        "history = model.fit_generator(\n",
        "    train_generator,\n",
        "    steps_per_epoch=training_samples // batch_size,\n",
        "    epochs=epochs,\n",
        "    validation_data=test_generator,\n",
        "    validation_steps=testing_samples // batch_size,\n",
        "    verbose=1,\n",
        "    callbacks = [lr_reduce,checkpoint]\n",
        ")"
      ],
      "execution_count": null,
      "outputs": [
        {
          "output_type": "stream",
          "text": [
            "/usr/local/lib/python3.7/dist-packages/tensorflow/python/keras/engine/training.py:1844: UserWarning: `Model.fit_generator` is deprecated and will be removed in a future version. Please use `Model.fit`, which supports generators.\n",
            "  warnings.warn('`Model.fit_generator` is deprecated and '\n"
          ],
          "name": "stderr"
        },
        {
          "output_type": "stream",
          "text": [
            "Epoch 1/5\n",
            "317/317 [==============================] - 7056s 22s/step - loss: 2.7072 - accuracy: 0.2856 - val_loss: 0.7749 - val_accuracy: 0.9240\n",
            "\n",
            "Epoch 00001: val_accuracy improved from -inf to 0.92396, saving model to vgg16FT.h15\n",
            "INFO:tensorflow:Assets written to: vgg16FT.h15/assets\n",
            "Epoch 2/5\n",
            "317/317 [==============================] - 62s 196ms/step - loss: 1.1729 - accuracy: 0.6934 - val_loss: 0.3593 - val_accuracy: 0.9389\n",
            "\n",
            "Epoch 00002: val_accuracy improved from 0.92396 to 0.93889, saving model to vgg16FT.h15\n",
            "INFO:tensorflow:Assets written to: vgg16FT.h15/assets\n",
            "Epoch 3/5\n",
            "317/317 [==============================] - 62s 197ms/step - loss: 0.7573 - accuracy: 0.7941 - val_loss: 0.2091 - val_accuracy: 0.9698\n",
            "\n",
            "Epoch 00003: val_accuracy improved from 0.93889 to 0.96979, saving model to vgg16FT.h15\n",
            "INFO:tensorflow:Assets written to: vgg16FT.h15/assets\n",
            "Epoch 4/5\n",
            "317/317 [==============================] - 62s 194ms/step - loss: 0.5634 - accuracy: 0.8411 - val_loss: 0.1969 - val_accuracy: 0.9385\n",
            "\n",
            "Epoch 00004: val_accuracy did not improve from 0.96979\n",
            "Epoch 5/5\n",
            "317/317 [==============================] - 62s 195ms/step - loss: 0.4566 - accuracy: 0.8694 - val_loss: 0.0983 - val_accuracy: 0.9812\n",
            "\n",
            "Epoch 00005: val_accuracy improved from 0.96979 to 0.98125, saving model to vgg16FT.h15\n",
            "INFO:tensorflow:Assets written to: vgg16FT.h15/assets\n"
          ],
          "name": "stdout"
        }
      ]
    },
    {
      "cell_type": "code",
      "metadata": {
        "id": "OvI4Uo7cnDF6"
      },
      "source": [
        "def setup_model(model, trainable):\n",
        "    # Freeze the un-trainable layers of the model base\n",
        "    for layer in model.layers[:(len(model.layers) - trainable)]:  \n",
        "        layer.trainable = False \n",
        "\n",
        "    for layer in model.layers[(len(model.layers) - trainable):]:\n",
        "        layer.trainable = True\n",
        "\n",
        "    model.compile(\n",
        "        loss='categorical_crossentropy',\n",
        "        # Slower training rate for fine-tuning\n",
        "        optimizer=optimizers.SGD(lr=1e-4, momentum=0.9),\n",
        "        metrics=['accuracy']\n",
        "    )"
      ],
      "execution_count": null,
      "outputs": []
    },
    {
      "cell_type": "code",
      "metadata": {
        "id": "VJczgy_PnDJC"
      },
      "source": [
        "setup_model(model, 19)"
      ],
      "execution_count": null,
      "outputs": []
    },
    {
      "cell_type": "code",
      "metadata": {
        "colab": {
          "base_uri": "https://localhost:8080/"
        },
        "id": "ilE2k8g8nDMO",
        "outputId": "d4065f9c-bb78-4ccf-cee7-f418cbf729be"
      },
      "source": [
        "history = model.fit_generator(\n",
        "    train_generator,\n",
        "    steps_per_epoch=training_samples // batch_size,\n",
        "    epochs=epochs_ft,\n",
        "    validation_data=test_generator,\n",
        "    validation_steps=testing_samples // batch_size,\n",
        "    verbose=1,\n",
        "    callbacks = [lr_reduce, checkpoint]\n",
        ")"
      ],
      "execution_count": null,
      "outputs": [
        {
          "output_type": "stream",
          "text": [
            "/usr/local/lib/python3.7/dist-packages/tensorflow/python/keras/engine/training.py:1844: UserWarning: `Model.fit_generator` is deprecated and will be removed in a future version. Please use `Model.fit`, which supports generators.\n",
            "  warnings.warn('`Model.fit_generator` is deprecated and '\n"
          ],
          "name": "stderr"
        },
        {
          "output_type": "stream",
          "text": [
            "Epoch 1/10\n",
            "317/317 [==============================] - 65s 201ms/step - loss: 0.2932 - accuracy: 0.9068 - val_loss: 0.0195 - val_accuracy: 0.9920\n",
            "\n",
            "Epoch 00001: val_accuracy improved from 0.98125 to 0.99201, saving model to vgg16FT.h15\n",
            "INFO:tensorflow:Assets written to: vgg16FT.h15/assets\n",
            "Epoch 2/10\n",
            "317/317 [==============================] - 64s 201ms/step - loss: 0.1018 - accuracy: 0.9701 - val_loss: 0.0039 - val_accuracy: 1.0000\n",
            "\n",
            "Epoch 00002: val_accuracy improved from 0.99201 to 1.00000, saving model to vgg16FT.h15\n",
            "INFO:tensorflow:Assets written to: vgg16FT.h15/assets\n",
            "Epoch 3/10\n",
            "317/317 [==============================] - 64s 203ms/step - loss: 0.0783 - accuracy: 0.9779 - val_loss: 0.0017 - val_accuracy: 1.0000\n",
            "\n",
            "Epoch 00003: val_accuracy did not improve from 1.00000\n",
            "Epoch 4/10\n",
            "317/317 [==============================] - 64s 200ms/step - loss: 0.0566 - accuracy: 0.9837 - val_loss: 0.0148 - val_accuracy: 0.9927\n",
            "\n",
            "Epoch 00004: val_accuracy did not improve from 1.00000\n",
            "Epoch 5/10\n",
            "317/317 [==============================] - 63s 198ms/step - loss: 0.0458 - accuracy: 0.9864 - val_loss: 9.1140e-04 - val_accuracy: 1.0000\n",
            "\n",
            "Epoch 00005: val_accuracy did not improve from 1.00000\n",
            "Epoch 6/10\n",
            "317/317 [==============================] - 63s 198ms/step - loss: 0.0326 - accuracy: 0.9898 - val_loss: 0.0016 - val_accuracy: 0.9997\n",
            "\n",
            "Epoch 00006: val_accuracy did not improve from 1.00000\n",
            "Epoch 7/10\n",
            "317/317 [==============================] - 63s 197ms/step - loss: 0.0339 - accuracy: 0.9877 - val_loss: 3.7848e-04 - val_accuracy: 1.0000\n",
            "\n",
            "Epoch 00007: val_accuracy did not improve from 1.00000\n",
            "Epoch 8/10\n",
            "317/317 [==============================] - 63s 198ms/step - loss: 0.0277 - accuracy: 0.9916 - val_loss: 4.3090e-04 - val_accuracy: 1.0000\n",
            "\n",
            "Epoch 00008: val_accuracy did not improve from 1.00000\n",
            "Epoch 9/10\n",
            "317/317 [==============================] - 63s 198ms/step - loss: 0.0241 - accuracy: 0.9929 - val_loss: 3.4116e-04 - val_accuracy: 1.0000\n",
            "\n",
            "Epoch 00009: val_accuracy did not improve from 1.00000\n",
            "Epoch 10/10\n",
            "317/317 [==============================] - 63s 198ms/step - loss: 0.0227 - accuracy: 0.9943 - val_loss: 3.2730e-04 - val_accuracy: 1.0000\n",
            "\n",
            "Epoch 00010: ReduceLROnPlateau reducing learning rate to 5.999999848427251e-05.\n",
            "\n",
            "Epoch 00010: val_accuracy did not improve from 1.00000\n"
          ],
          "name": "stdout"
        }
      ]
    },
    {
      "cell_type": "code",
      "metadata": {
        "id": "hfh255DVnDO4"
      },
      "source": [
        ""
      ],
      "execution_count": null,
      "outputs": []
    }
  ]
}